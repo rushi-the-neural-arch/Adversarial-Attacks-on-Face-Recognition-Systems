{
 "cells": [
  {
   "cell_type": "markdown",
   "metadata": {},
   "source": [
    "# Face detection and recognition training pipeline\n",
    "\n",
    "The following example illustrates how to fine-tune an InceptionResnetV1 model on your own dataset. This will mostly follow standard pytorch training patterns."
   ]
  },
  {
   "cell_type": "code",
   "execution_count": 1,
   "metadata": {},
   "outputs": [],
   "source": [
    "from facenet_pytorch import MTCNN, InceptionResnetV1, fixed_image_standardization, training\n",
    "import torch\n",
    "from torch.utils.data import DataLoader, SubsetRandomSampler\n",
    "from torch import optim\n",
    "from torch.optim.lr_scheduler import MultiStepLR\n",
    "from torch.utils.tensorboard import SummaryWriter\n",
    "from torchvision import datasets, transforms\n",
    "import numpy as np\n",
    "import os"
   ]
  },
  {
   "cell_type": "markdown",
   "metadata": {},
   "source": [
    "#### Define run parameters\n",
    "\n",
    "The dataset should follow the VGGFace2/ImageNet-style directory layout. Modify `data_dir` to the location of the dataset on wish to finetune on."
   ]
  },
  {
   "cell_type": "code",
   "execution_count": 2,
   "metadata": {},
   "outputs": [],
   "source": [
    "data_dir = 'TrainSet'\n",
    "\n",
    "batch_size = 32\n",
    "epochs = 8\n",
    "workers = 0 if os.name == 'nt' else 8"
   ]
  },
  {
   "cell_type": "markdown",
   "metadata": {},
   "source": [
    "#### Determine if an nvidia GPU is available"
   ]
  },
  {
   "cell_type": "code",
   "execution_count": 3,
   "metadata": {},
   "outputs": [
    {
     "name": "stdout",
     "output_type": "stream",
     "text": [
      "Running on device: cuda:0\n"
     ]
    }
   ],
   "source": [
    "device = torch.device('cuda:0' if torch.cuda.is_available() else 'cpu')\n",
    "print('Running on device: {}'.format(device))"
   ]
  },
  {
   "cell_type": "markdown",
   "metadata": {},
   "source": [
    "#### Define MTCNN module\n",
    "\n",
    "See `help(MTCNN)` for more details."
   ]
  },
  {
   "cell_type": "code",
   "execution_count": 4,
   "metadata": {},
   "outputs": [],
   "source": [
    "mtcnn = MTCNN(\n",
    "    image_size=160, margin=0, min_face_size=20,\n",
    "    thresholds=[0.6, 0.7, 0.7], factor=0.709, post_process=True,\n",
    "    device=device\n",
    ")"
   ]
  },
  {
   "cell_type": "markdown",
   "metadata": {},
   "source": [
    "#### Perfom MTCNN facial detection\n",
    "\n",
    "Iterate through the DataLoader object and obtain cropped faces."
   ]
  },
  {
   "cell_type": "code",
   "execution_count": 5,
   "metadata": {},
   "outputs": [],
   "source": [
    "dataset = datasets.ImageFolder(data_dir, transform=transforms.Resize((200, 200)))\n",
    "dataset.samples = [\n",
    "    (p, p.replace(data_dir, data_dir + '_cropped'))\n",
    "        for p, _ in dataset.samples\n",
    "]\n",
    "        \n",
    "loader = DataLoader(\n",
    "    dataset,\n",
    "    num_workers=workers,\n",
    "    batch_size=batch_size,\n",
    "    collate_fn=training.collate_pil\n",
    ")\n"
   ]
  },
  {
   "cell_type": "code",
   "execution_count": 6,
   "metadata": {
    "scrolled": true
   },
   "outputs": [
    {
     "name": "stdout",
     "output_type": "stream",
     "text": [
      "Batch 4 of 24"
     ]
    },
    {
     "name": "stderr",
     "output_type": "stream",
     "text": [
      "/home/jupyter-rushiraj/.local/lib/python3.7/site-packages/facenet_pytorch/models/utils/detect_face.py:183: VisibleDeprecationWarning: Creating an ndarray from ragged nested sequences (which is a list-or-tuple of lists-or-tuples-or ndarrays with different lengths or shapes) is deprecated. If you meant to do this, you must specify 'dtype=object' when creating the ndarray\n",
      "  batch_boxes, batch_points = np.array(batch_boxes), np.array(batch_points)\n",
      "/home/jupyter-rushiraj/.local/lib/python3.7/site-packages/facenet_pytorch/models/mtcnn.py:339: VisibleDeprecationWarning: Creating an ndarray from ragged nested sequences (which is a list-or-tuple of lists-or-tuples-or ndarrays with different lengths or shapes) is deprecated. If you meant to do this, you must specify 'dtype=object' when creating the ndarray\n",
      "  boxes = np.array(boxes)\n",
      "/home/jupyter-rushiraj/.local/lib/python3.7/site-packages/facenet_pytorch/models/mtcnn.py:340: VisibleDeprecationWarning: Creating an ndarray from ragged nested sequences (which is a list-or-tuple of lists-or-tuples-or ndarrays with different lengths or shapes) is deprecated. If you meant to do this, you must specify 'dtype=object' when creating the ndarray\n",
      "  probs = np.array(probs)\n",
      "/home/jupyter-rushiraj/.local/lib/python3.7/site-packages/facenet_pytorch/models/mtcnn.py:341: VisibleDeprecationWarning: Creating an ndarray from ragged nested sequences (which is a list-or-tuple of lists-or-tuples-or ndarrays with different lengths or shapes) is deprecated. If you meant to do this, you must specify 'dtype=object' when creating the ndarray\n",
      "  points = np.array(points)\n"
     ]
    },
    {
     "name": "stdout",
     "output_type": "stream",
     "text": [
      "Batch 24 of 24"
     ]
    }
   ],
   "source": [
    "\n",
    "for i, (x, y) in enumerate(loader):\n",
    "    mtcnn(x, save_path=y)\n",
    "    print('\\rBatch {} of {}'.format(i + 1, len(loader)), end='')\n",
    "    \n",
    "# Remove mtcnn to reduce GPU memory usage\n",
    "del mtcnn"
   ]
  },
  {
   "cell_type": "markdown",
   "metadata": {},
   "source": [
    "#### Define Inception Resnet V1 module\n",
    "\n",
    "See `help(InceptionResnetV1)` for more details."
   ]
  },
  {
   "cell_type": "code",
   "execution_count": 6,
   "metadata": {},
   "outputs": [],
   "source": [
    "resnet = InceptionResnetV1(\n",
    "    classify=True,\n",
    "    pretrained='vggface2',\n",
    "    num_classes=len(dataset.class_to_idx)\n",
    ").to(device)"
   ]
  },
  {
   "cell_type": "markdown",
   "metadata": {},
   "source": [
    "#### Define optimizer, scheduler, dataset, and dataloader"
   ]
  },
  {
   "cell_type": "code",
   "execution_count": 7,
   "metadata": {},
   "outputs": [],
   "source": [
    "optimizer = optim.Adam(resnet.parameters(), lr=0.001)\n",
    "scheduler = MultiStepLR(optimizer, [5, 10])\n",
    "\n",
    "trans = transforms.Compose([\n",
    "    np.float32,\n",
    "    transforms.ToTensor(),\n",
    "    fixed_image_standardization\n",
    "])\n",
    "dataset = datasets.ImageFolder(data_dir + '_cropped', transform=trans)\n",
    "img_inds = np.arange(len(dataset))\n",
    "np.random.shuffle(img_inds)\n",
    "train_inds = img_inds[:int(0.8 * len(img_inds))]\n",
    "val_inds = img_inds[int(0.8 * len(img_inds)):]\n",
    "\n",
    "train_loader = DataLoader(\n",
    "    dataset,\n",
    "    num_workers=workers,\n",
    "    batch_size=batch_size,\n",
    "    sampler=SubsetRandomSampler(train_inds)\n",
    ")\n",
    "val_loader = DataLoader(\n",
    "    dataset,\n",
    "    num_workers=workers,\n",
    "    batch_size=batch_size,\n",
    "    sampler=SubsetRandomSampler(val_inds)\n",
    ")"
   ]
  },
  {
   "cell_type": "markdown",
   "metadata": {},
   "source": [
    "#### Define loss and evaluation functions"
   ]
  },
  {
   "cell_type": "code",
   "execution_count": 8,
   "metadata": {},
   "outputs": [],
   "source": [
    "loss_fn = torch.nn.CrossEntropyLoss()\n",
    "metrics = { \n",
    "    'fps': training.BatchTimer(),\n",
    "    'acc': training.accuracy\n",
    "}"
   ]
  },
  {
   "cell_type": "markdown",
   "metadata": {},
   "source": [
    "## Train model"
   ]
  },
  {
   "cell_type": "code",
   "execution_count": 12,
   "metadata": {},
   "outputs": [
    {
     "name": "stdout",
     "output_type": "stream",
     "text": [
      "\n",
      "\n",
      "Initial\n",
      "----------\n",
      "Valid |     5/5    | loss:    4.0642 | fps:  668.4995 | acc:    0.0149   \n",
      "\n",
      "Epoch 1/8\n",
      "----------\n",
      "Train |    19/19   | loss:    1.7995 | fps:  316.9115 | acc:    0.5864   \n",
      "Valid |     5/5    | loss:    1.9127 | fps:  674.8303 | acc:    0.4995   \n",
      "\n",
      "Epoch 2/8\n",
      "----------\n",
      "Train |    19/19   | loss:    0.2941 | fps:  313.1545 | acc:    0.9704   \n",
      "Valid |     5/5    | loss:    0.3552 | fps:  766.5052 | acc:    0.8764   \n",
      "\n",
      "Epoch 3/8\n",
      "----------\n",
      "Train |    19/19   | loss:    0.0792 | fps:  321.0124 | acc:    1.0000   \n",
      "Valid |     5/5    | loss:    0.1310 | fps:  768.6274 | acc:    0.9812   \n",
      "\n",
      "Epoch 4/8\n",
      "----------\n",
      "Train |    19/19   | loss:    0.0277 | fps:  318.6447 | acc:    1.0000   \n",
      "Valid |     5/5    | loss:    0.0331 | fps:  806.8425 | acc:    1.0000   \n",
      "\n",
      "Epoch 5/8\n",
      "----------\n",
      "Train |    19/19   | loss:    0.0126 | fps:  319.9738 | acc:    1.0000   \n",
      "Valid |     5/5    | loss:    0.0313 | fps:  772.9114 | acc:    0.9937   \n",
      "\n",
      "Epoch 6/8\n",
      "----------\n",
      "Train |    19/19   | loss:    0.0066 | fps:  316.4204 | acc:    1.0000   \n",
      "Valid |     5/5    | loss:    0.0272 | fps:  760.3464 | acc:    0.9937   \n",
      "\n",
      "Epoch 7/8\n",
      "----------\n",
      "Train |    19/19   | loss:    0.0065 | fps:  316.7217 | acc:    1.0000   \n",
      "Valid |     5/5    | loss:    0.0234 | fps:  794.4904 | acc:    0.9937   \n",
      "\n",
      "Epoch 8/8\n",
      "----------\n",
      "Train |    19/19   | loss:    0.0062 | fps:  323.9474 | acc:    1.0000   \n",
      "Valid |     5/5    | loss:    0.0201 | fps:  741.1027 | acc:    0.9937   \n"
     ]
    }
   ],
   "source": [
    "writer = SummaryWriter()\n",
    "writer.iteration, writer.interval = 0, 10\n",
    "\n",
    "print('\\n\\nInitial')\n",
    "print('-' * 10)\n",
    "resnet.eval()\n",
    "training.pass_epoch(\n",
    "    resnet, loss_fn, val_loader,\n",
    "    batch_metrics=metrics, show_running=True, device=device,\n",
    "    writer=writer\n",
    ")\n",
    "\n",
    "for epoch in range(epochs):\n",
    "    print('\\nEpoch {}/{}'.format(epoch + 1, epochs))\n",
    "    print('-' * 10)\n",
    "\n",
    "    resnet.train()\n",
    "    training.pass_epoch(\n",
    "        resnet, loss_fn, train_loader, optimizer, scheduler,\n",
    "        batch_metrics=metrics, show_running=True, device=device,\n",
    "        writer=writer\n",
    "    )\n",
    "\n",
    "    resnet.eval()\n",
    "    training.pass_epoch(\n",
    "        resnet, loss_fn, val_loader,\n",
    "        batch_metrics=metrics, show_running=True, device=device,\n",
    "        writer=writer\n",
    "    )\n",
    "\n",
    "writer.close()"
   ]
  },
  {
   "cell_type": "code",
   "execution_count": 13,
   "metadata": {},
   "outputs": [],
   "source": [
    "torch.save(resnet.state_dict(), 'GeorgiaTech-TestDataset_StateDict.pth')\n",
    "torch.save(resnet, \"GeorgiaTech-TestDataset.pth\")"
   ]
  },
  {
   "cell_type": "markdown",
   "metadata": {},
   "source": [
    "## Load Model"
   ]
  },
  {
   "cell_type": "code",
   "execution_count": 23,
   "metadata": {},
   "outputs": [
    {
     "data": {
      "text/plain": [
       "<All keys matched successfully>"
      ]
     },
     "execution_count": 23,
     "metadata": {},
     "output_type": "execute_result"
    }
   ],
   "source": [
    "resnet.load_state_dict(torch.load('GeorgiaTech-TestDataset_StateDict.pth'))"
   ]
  },
  {
   "cell_type": "markdown",
   "metadata": {},
   "source": [
    "# Inference"
   ]
  },
  {
   "cell_type": "code",
   "execution_count": 10,
   "metadata": {},
   "outputs": [],
   "source": [
    "def collate_fn(x):\n",
    "    return x[0]\n",
    "\n",
    "dataset = datasets.ImageFolder('TestSet')\n",
    "dataset.idx_to_class = {i:c for c, i in dataset.class_to_idx.items()}\n",
    "loader = DataLoader(dataset, collate_fn=collate_fn, num_workers=workers)"
   ]
  },
  {
   "cell_type": "code",
   "execution_count": 11,
   "metadata": {},
   "outputs": [
    {
     "data": {
      "text/plain": [
       "{0: 'P1',\n",
       " 1: 'P10',\n",
       " 2: 'P11',\n",
       " 3: 'P12',\n",
       " 4: 'P13',\n",
       " 5: 'P14',\n",
       " 6: 'P15',\n",
       " 7: 'P16',\n",
       " 8: 'P17',\n",
       " 9: 'P18',\n",
       " 10: 'P19',\n",
       " 11: 'P2',\n",
       " 12: 'P20',\n",
       " 13: 'P21',\n",
       " 14: 'P22',\n",
       " 15: 'P23',\n",
       " 16: 'P24',\n",
       " 17: 'P25',\n",
       " 18: 'P26',\n",
       " 19: 'P27',\n",
       " 20: 'P28',\n",
       " 21: 'P29',\n",
       " 22: 'P3',\n",
       " 23: 'P30',\n",
       " 24: 'P31',\n",
       " 25: 'P32',\n",
       " 26: 'P33',\n",
       " 27: 'P34',\n",
       " 28: 'P35',\n",
       " 29: 'P36',\n",
       " 30: 'P37',\n",
       " 31: 'P38',\n",
       " 32: 'P39',\n",
       " 33: 'P4',\n",
       " 34: 'P40',\n",
       " 35: 'P41',\n",
       " 36: 'P42',\n",
       " 37: 'P43',\n",
       " 38: 'P44',\n",
       " 39: 'P45',\n",
       " 40: 'P46',\n",
       " 41: 'P47',\n",
       " 42: 'P48',\n",
       " 43: 'P49',\n",
       " 44: 'P5',\n",
       " 45: 'P50',\n",
       " 46: 'P6',\n",
       " 47: 'P7',\n",
       " 48: 'P8',\n",
       " 49: 'P9'}"
      ]
     },
     "execution_count": 11,
     "metadata": {},
     "output_type": "execute_result"
    }
   ],
   "source": [
    "dataset.idx_to_class"
   ]
  },
  {
   "cell_type": "code",
   "execution_count": 12,
   "metadata": {},
   "outputs": [],
   "source": [
    "faces, classes = next(iter(loader))\n"
   ]
  },
  {
   "cell_type": "markdown",
   "metadata": {},
   "source": [
    "#### Perfom MTCNN facial detection\n",
    "\n",
    "Iterate through the DataLoader object and detect faces and associated detection probabilities for each. The `MTCNN` forward method returns images cropped to the detected face, if a face was detected. By default only a single detected face is returned - to have `MTCNN` return all detected faces, set `keep_all=True` when creating the MTCNN object above.\n",
    "\n",
    "To obtain bounding boxes rather than cropped face images, you can instead call the lower-level `mtcnn.detect()` function. See `help(mtcnn.detect)` for details."
   ]
  },
  {
   "cell_type": "code",
   "execution_count": 13,
   "metadata": {},
   "outputs": [],
   "source": [
    "mtcnn = MTCNN(\n",
    "    image_size=160, margin=0, min_face_size=20,\n",
    "    thresholds=[0.6, 0.7, 0.7], factor=0.709, post_process=True,\n",
    "    device=device\n",
    ")"
   ]
  },
  {
   "cell_type": "code",
   "execution_count": 20,
   "metadata": {
    "scrolled": true
   },
   "outputs": [
    {
     "name": "stdout",
     "output_type": "stream",
     "text": [
      "Face detected with probability: 0.999996\n",
      "Face detected with probability: 0.999527\n",
      "Face detected with probability: 0.999948\n",
      "Face detected with probability: 0.999992\n",
      "Face detected with probability: 0.999991\n",
      "Face detected with probability: 0.999976\n",
      "Face detected with probability: 0.999946\n",
      "Face detected with probability: 0.999998\n",
      "Face detected with probability: 0.997758\n",
      "Face detected with probability: 0.999992\n",
      "Face detected with probability: 0.999997\n",
      "Face detected with probability: 0.999998\n",
      "Face detected with probability: 0.999775\n",
      "Face detected with probability: 0.999863\n",
      "Face detected with probability: 0.999835\n",
      "Face detected with probability: 0.999993\n",
      "Face detected with probability: 0.999999\n",
      "Face detected with probability: 0.999997\n",
      "Face detected with probability: 0.999963\n",
      "Face detected with probability: 1.000000\n",
      "Face detected with probability: 0.999999\n",
      "Face detected with probability: 0.999857\n",
      "Face detected with probability: 0.999982\n",
      "Face detected with probability: 0.999996\n",
      "Face detected with probability: 0.999931\n",
      "Face detected with probability: 0.999998\n",
      "Face detected with probability: 0.998122\n",
      "Face detected with probability: 0.999999\n",
      "Face detected with probability: 0.999999\n",
      "Face detected with probability: 0.999992\n",
      "Face detected with probability: 0.999759\n",
      "Face detected with probability: 0.999859\n",
      "Face detected with probability: 0.999989\n",
      "Face detected with probability: 0.999963\n",
      "Face detected with probability: 0.999982\n",
      "Face detected with probability: 0.999998\n",
      "Face detected with probability: 0.999982\n",
      "Face detected with probability: 0.998896\n",
      "Face detected with probability: 0.999999\n",
      "Face detected with probability: 0.999995\n",
      "Face detected with probability: 0.999982\n",
      "Face detected with probability: 0.999733\n",
      "Face detected with probability: 0.999929\n",
      "Face detected with probability: 0.999855\n",
      "Face detected with probability: 1.000000\n",
      "Face detected with probability: 0.999783\n",
      "Face detected with probability: 0.999982\n",
      "Face detected with probability: 1.000000\n",
      "Face detected with probability: 0.999999\n",
      "Face detected with probability: 1.000000\n",
      "Face detected with probability: 0.999992\n",
      "Face detected with probability: 1.000000\n",
      "Face detected with probability: 0.999978\n",
      "Face detected with probability: 1.000000\n",
      "Face detected with probability: 0.999993\n",
      "Face detected with probability: 0.999990\n",
      "Face detected with probability: 0.999969\n",
      "Face detected with probability: 0.999995\n",
      "Face detected with probability: 1.000000\n",
      "Face detected with probability: 0.999993\n",
      "Face detected with probability: 0.999995\n",
      "Face detected with probability: 0.999995\n",
      "Face detected with probability: 0.999994\n",
      "Face detected with probability: 0.999999\n",
      "Face detected with probability: 0.999982\n",
      "Face detected with probability: 0.999999\n",
      "Face detected with probability: 0.998701\n",
      "Face detected with probability: 0.999979\n",
      "Face detected with probability: 0.999980\n",
      "Face detected with probability: 0.999999\n",
      "Face detected with probability: 0.999997\n",
      "Face detected with probability: 0.999807\n",
      "Face detected with probability: 1.000000\n",
      "Face detected with probability: 0.999975\n",
      "Face detected with probability: 0.999987\n",
      "Face detected with probability: 1.000000\n",
      "Face detected with probability: 0.999998\n",
      "Face detected with probability: 1.000000\n",
      "Face detected with probability: 0.999999\n",
      "Face detected with probability: 0.999996\n",
      "Face detected with probability: 0.999991\n",
      "Face detected with probability: 0.999977\n",
      "Face detected with probability: 0.999952\n",
      "Face detected with probability: 0.999877\n",
      "Face detected with probability: 0.999996\n",
      "Face detected with probability: 0.999988\n",
      "Face detected with probability: 0.999957\n",
      "Face detected with probability: 0.999992\n",
      "Face detected with probability: 1.000000\n",
      "Face detected with probability: 0.999999\n",
      "Face detected with probability: 0.999975\n",
      "Face detected with probability: 0.999899\n",
      "Face detected with probability: 0.999994\n",
      "Face detected with probability: 0.999997\n",
      "Face detected with probability: 0.999985\n",
      "Face detected with probability: 1.000000\n",
      "Face detected with probability: 0.999977\n",
      "Face detected with probability: 0.999994\n",
      "Face detected with probability: 0.999776\n",
      "Face detected with probability: 0.999852\n",
      "Face detected with probability: 0.999990\n",
      "Face detected with probability: 0.999971\n",
      "Face detected with probability: 0.999983\n",
      "Face detected with probability: 0.999983\n",
      "Face detected with probability: 0.999985\n",
      "Face detected with probability: 1.000000\n",
      "Face detected with probability: 0.999999\n",
      "Face detected with probability: 0.999995\n",
      "Face detected with probability: 0.999995\n",
      "Face detected with probability: 0.999966\n",
      "Face detected with probability: 1.000000\n",
      "Face detected with probability: 0.999998\n",
      "Face detected with probability: 1.000000\n",
      "Face detected with probability: 0.999980\n",
      "Face detected with probability: 0.999957\n",
      "Face detected with probability: 0.999793\n",
      "Face detected with probability: 0.999988\n",
      "Face detected with probability: 0.999995\n",
      "Face detected with probability: 1.000000\n",
      "Face detected with probability: 0.999999\n",
      "Face detected with probability: 0.999999\n",
      "Face detected with probability: 0.999986\n",
      "Face detected with probability: 0.999997\n",
      "Face detected with probability: 0.999992\n",
      "Face detected with probability: 0.999976\n",
      "Face detected with probability: 0.999970\n",
      "Face detected with probability: 0.999982\n",
      "Face detected with probability: 0.999936\n",
      "Face detected with probability: 0.999950\n",
      "Face detected with probability: 0.999993\n",
      "Face detected with probability: 0.999704\n",
      "Face detected with probability: 0.999920\n",
      "Face detected with probability: 0.999965\n",
      "Face detected with probability: 0.999701\n",
      "Face detected with probability: 0.999999\n",
      "Face detected with probability: 0.999993\n",
      "Face detected with probability: 1.000000\n",
      "Face detected with probability: 0.999998\n",
      "Face detected with probability: 0.999998\n",
      "Face detected with probability: 0.999996\n",
      "Face detected with probability: 0.999987\n",
      "Face detected with probability: 0.999996\n",
      "Face detected with probability: 0.999705\n",
      "Face detected with probability: 0.999999\n",
      "Face detected with probability: 0.999993\n",
      "Face detected with probability: 0.999987\n",
      "Face detected with probability: 0.999984\n",
      "Face detected with probability: 0.999975\n",
      "Face detected with probability: 0.999995\n",
      "Face detected with probability: 0.999991\n",
      "Face detected with probability: 0.999999\n",
      "Face detected with probability: 0.999994\n",
      "Face detected with probability: 0.999992\n",
      "Face detected with probability: 0.999997\n",
      "Face detected with probability: 0.999561\n",
      "Face detected with probability: 0.999896\n",
      "Face detected with probability: 0.999944\n",
      "Face detected with probability: 0.999316\n",
      "Face detected with probability: 0.999996\n",
      "Face detected with probability: 0.999980\n",
      "Face detected with probability: 0.999958\n",
      "Face detected with probability: 0.999977\n",
      "Face detected with probability: 1.000000\n",
      "Face detected with probability: 0.999995\n",
      "Face detected with probability: 0.999993\n",
      "Face detected with probability: 0.999977\n",
      "Face detected with probability: 0.999895\n",
      "Face detected with probability: 0.999811\n",
      "Face detected with probability: 0.999933\n",
      "Face detected with probability: 0.999995\n",
      "Face detected with probability: 0.999999\n",
      "Face detected with probability: 1.000000\n",
      "Face detected with probability: 0.999910\n",
      "Face detected with probability: 1.000000\n",
      "Face detected with probability: 0.999976\n",
      "Face detected with probability: 0.999999\n",
      "Face detected with probability: 1.000000\n",
      "Face detected with probability: 0.999998\n",
      "Face detected with probability: 1.000000\n",
      "Face detected with probability: 0.999999\n",
      "Face detected with probability: 0.998763\n",
      "Face detected with probability: 0.999995\n",
      "Face detected with probability: 0.999971\n",
      "Face detected with probability: 0.999937\n",
      "Face detected with probability: 0.999998\n",
      "Face detected with probability: 0.999827\n",
      "Face detected with probability: 0.999671\n",
      "Face detected with probability: 0.999967\n",
      "Face detected with probability: 0.999221\n",
      "Face detected with probability: 0.999964\n",
      "Face detected with probability: 0.999802\n",
      "Face detected with probability: 0.999990\n",
      "Face detected with probability: 0.999998\n",
      "Face detected with probability: 0.999681\n",
      "Face detected with probability: 0.999999\n",
      "Face detected with probability: 0.999718\n",
      "Face detected with probability: 0.999721\n",
      "Face detected with probability: 0.998508\n",
      "Face detected with probability: 0.999996\n",
      "Face detected with probability: 0.999922\n",
      "Face detected with probability: 1.000000\n",
      "Face detected with probability: 0.999968\n",
      "Face detected with probability: 1.000000\n",
      "Face detected with probability: 0.999999\n",
      "Face detected with probability: 0.999984\n",
      "Face detected with probability: 0.999997\n",
      "Face detected with probability: 0.999999\n",
      "Face detected with probability: 1.000000\n",
      "Face detected with probability: 1.000000\n",
      "Face detected with probability: 1.000000\n",
      "Face detected with probability: 0.999974\n",
      "Face detected with probability: 0.999982\n",
      "Face detected with probability: 0.999987\n",
      "Face detected with probability: 0.999789\n",
      "Face detected with probability: 0.999931\n",
      "Face detected with probability: 0.999885\n",
      "Face detected with probability: 0.999664\n",
      "Face detected with probability: 0.999890\n",
      "Face detected with probability: 0.999966\n",
      "Face detected with probability: 0.999681\n",
      "Face detected with probability: 0.999995\n",
      "Face detected with probability: 0.999993\n",
      "Face detected with probability: 0.999999\n",
      "Face detected with probability: 0.999998\n",
      "Face detected with probability: 0.999997\n",
      "Face detected with probability: 0.997909\n",
      "Face detected with probability: 0.997290\n",
      "Face detected with probability: 0.999123\n",
      "Face detected with probability: 0.997608\n",
      "Face detected with probability: 0.999190\n",
      "Face detected with probability: 0.999962\n",
      "Face detected with probability: 0.999987\n",
      "Face detected with probability: 1.000000\n",
      "Face detected with probability: 0.999972\n",
      "Face detected with probability: 0.999968\n",
      "Face detected with probability: 0.999844\n",
      "Face detected with probability: 0.999981\n",
      "Face detected with probability: 0.999938\n",
      "Face detected with probability: 0.999922\n",
      "Face detected with probability: 0.999976\n",
      "Face detected with probability: 1.000000\n",
      "Face detected with probability: 0.999726\n",
      "Face detected with probability: 0.999997\n",
      "Face detected with probability: 0.999997\n",
      "Face detected with probability: 0.999991\n",
      "Face detected with probability: 0.999999\n",
      "Face detected with probability: 0.999997\n",
      "Face detected with probability: 0.999891\n",
      "Face detected with probability: 0.999994\n",
      "Face detected with probability: 0.999964\n"
     ]
    }
   ],
   "source": [
    "aligned = []\n",
    "names = []\n",
    "for x, y in loader:\n",
    "    x_aligned, prob = mtcnn(x, return_prob=True)\n",
    "    if x_aligned is not None:\n",
    "        print('Face detected with probability: {:8f}'.format(prob))\n",
    "        aligned.append(x_aligned)\n",
    "        names.append(dataset.idx_to_class[y])"
   ]
  },
  {
   "cell_type": "code",
   "execution_count": 21,
   "metadata": {},
   "outputs": [],
   "source": [
    "faces = torch.stack(aligned).to(device)"
   ]
  },
  {
   "cell_type": "code",
   "execution_count": 16,
   "metadata": {},
   "outputs": [],
   "source": [
    "embeddings = resnet(aligned).detach().cpu()"
   ]
  },
  {
   "cell_type": "markdown",
   "metadata": {},
   "source": [
    "#### Print distance matrix for classes"
   ]
  },
  {
   "cell_type": "code",
   "execution_count": 18,
   "metadata": {
    "scrolled": true
   },
   "outputs": [
    {
     "name": "stdout",
     "output_type": "stream",
     "text": [
      "           P1         P1         P1         P1         P1        P10  \\\n",
      "P1   0.000000   6.564205   7.136287   6.369747   9.244225  27.599197   \n",
      "P1   6.564205   0.000000   7.967029   7.884267  10.275927  29.083033   \n",
      "P1   7.136287   7.967029   0.000000   6.441052  11.227943  25.060112   \n",
      "P1   6.369747   7.884267   6.441052   0.000000  10.508958  27.040245   \n",
      "P1   9.244225  10.275927  11.227943  10.508958   0.000000  26.470915   \n",
      "..        ...        ...        ...        ...        ...        ...   \n",
      "P9  23.077450  21.906578  19.867460  21.923532  22.255459  29.079672   \n",
      "P9  22.035639  21.274551  18.796385  20.407980  19.802294  26.671961   \n",
      "P9  19.967724  19.280655  17.176912  19.078711  17.644938  27.060354   \n",
      "P9  20.227064  20.082287  17.375299  18.839792  18.680183  25.593325   \n",
      "P9  23.904232  23.085388  20.692949  22.394680  21.556049  26.046614   \n",
      "\n",
      "          P10        P10        P10        P10  ...         P8         P8  \\\n",
      "P1  28.249353  24.086750  29.459036  26.760435  ...  24.291971  27.255028   \n",
      "P1  29.950968  25.386459  30.761032  28.284771  ...  26.461454  28.982622   \n",
      "P1  26.005037  21.384609  26.385740  24.178921  ...  24.060848  26.471432   \n",
      "P1  28.053740  22.736055  28.768906  26.389109  ...  26.793615  28.976473   \n",
      "P1  27.967058  24.212366  28.493813  25.361273  ...  25.636456  29.081430   \n",
      "..        ...        ...        ...        ...  ...        ...        ...   \n",
      "P9  29.645674  27.269754  27.338612  27.978592  ...  29.312862  29.564344   \n",
      "P9  27.644468  24.934538  25.743330  26.172485  ...  29.587414  30.545244   \n",
      "P9  27.979830  25.576244  26.581730  26.301302  ...  26.910807  27.527294   \n",
      "P9  26.596424  24.607220  24.975082  24.909983  ...  27.604528  28.713659   \n",
      "P9  27.024017  24.944796  24.654409  25.395025  ...  28.755419  28.709181   \n",
      "\n",
      "           P8         P8         P8         P9         P9         P9  \\\n",
      "P1  25.233126  26.461258  24.721977  23.077450  22.035639  19.967724   \n",
      "P1  26.523970  27.956572  26.831181  21.906578  21.274551  19.280655   \n",
      "P1  23.734015  25.054008  24.566442  19.867460  18.796385  17.176912   \n",
      "P1  26.252378  28.098890  27.051098  21.923532  20.407980  19.078711   \n",
      "P1  25.435255  28.831001  26.963268  22.255459  19.802294  17.644938   \n",
      "..        ...        ...        ...        ...        ...        ...   \n",
      "P9  24.459385  29.666130  29.980490   0.000000   9.194393  10.956537   \n",
      "P9  25.587059  30.946793  30.432055   9.194393   0.000000   8.847863   \n",
      "P9  23.167032  28.494219  27.360266  10.956537   8.847863   0.000000   \n",
      "P9  23.596352  29.156124  28.572380  10.726862   8.160134   9.100091   \n",
      "P9  23.316286  29.511339  29.166683  10.499067   8.753778   8.288072   \n",
      "\n",
      "           P9         P9  \n",
      "P1  20.227064  23.904232  \n",
      "P1  20.082287  23.085388  \n",
      "P1  17.375299  20.692949  \n",
      "P1  18.839792  22.394680  \n",
      "P1  18.680183  21.556049  \n",
      "..        ...        ...  \n",
      "P9  10.726862  10.499067  \n",
      "P9   8.160134   8.753778  \n",
      "P9   9.100091   8.288072  \n",
      "P9   0.000000   8.984826  \n",
      "P9   8.984826   0.000000  \n",
      "\n",
      "[250 rows x 250 columns]\n"
     ]
    }
   ],
   "source": [
    "import pandas as pd\n",
    "\n",
    "dists = [[(e1 - e2).norm().item() for e2 in embeddings] for e1 in embeddings]\n",
    "print(pd.DataFrame(dists, columns=names, index=names))"
   ]
  },
  {
   "cell_type": "markdown",
   "metadata": {},
   "source": [
    "## DataLoader based Inference"
   ]
  },
  {
   "cell_type": "code",
   "execution_count": 24,
   "metadata": {},
   "outputs": [
    {
     "name": "stdout",
     "output_type": "stream",
     "text": [
      "['P1', 'P1', 'P1', 'P1', 'P1', 'P10', 'P10', 'P10', 'P10', 'P10', 'P11', 'P11', 'P11', 'P11', 'P11', 'P12', 'P12', 'P12', 'P12', 'P12', 'P13', 'P13', 'P13', 'P13', 'P13', 'P14', 'P14', 'P14', 'P14', 'P14', 'P15', 'P15', 'P15', 'P15', 'P15', 'P16', 'P16', 'P16', 'P16', 'P16', 'P17', 'P17', 'P17', 'P17', 'P17', 'P18', 'P18', 'P18', 'P18', 'P18', 'P19', 'P19', 'P19', 'P19', 'P19', 'P2', 'P2', 'P2', 'P2', 'P2', 'P20', 'P20', 'P20', 'P20', 'P20', 'P21', 'P21', 'P21', 'P21', 'P21', 'P22', 'P22', 'P22', 'P22', 'P22', 'P23', 'P23', 'P23', 'P23', 'P23', 'P24', 'P24', 'P24', 'P24', 'P24', 'P25', 'P25', 'P25', 'P25', 'P25', 'P26', 'P26', 'P26', 'P26', 'P26', 'P27', 'P27', 'P27', 'P27', 'P27', 'P28', 'P28', 'P28', 'P28', 'P28', 'P29', 'P29', 'P29', 'P29', 'P29', 'P3', 'P3', 'P3', 'P3', 'P3', 'P30', 'P30', 'P30', 'P30', 'P30', 'P31', 'P31', 'P31', 'P31', 'P31', 'P32', 'P32', 'P32', 'P32', 'P32', 'P33', 'P33', 'P33', 'P33', 'P33', 'P34', 'P34', 'P34', 'P34', 'P34', 'P35', 'P35', 'P35', 'P35', 'P35', 'P36', 'P36', 'P36', 'P36', 'P36', 'P37', 'P37', 'P37', 'P37', 'P37', 'P38', 'P38', 'P38', 'P38', 'P38', 'P39', 'P39', 'P39', 'P39', 'P39', 'P4', 'P4', 'P4', 'P4', 'P4', 'P40', 'P40', 'P40', 'P40', 'P40', 'P41', 'P41', 'P41', 'P41', 'P41', 'P42', 'P42', 'P42', 'P42', 'P42', 'P43', 'P43', 'P43', 'P43', 'P43', 'P44', 'P44', 'P44', 'P44', 'P44', 'P45', 'P45', 'P45', 'P45', 'P45', 'P46', 'P46', 'P46', 'P46', 'P46', 'P47', 'P47', 'P47', 'P47', 'P47', 'P48', 'P48', 'P48', 'P48', 'P48', 'P49', 'P49', 'P49', 'P49', 'P49', 'P5', 'P5', 'P5', 'P5', 'P5', 'P50', 'P50', 'P50', 'P50', 'P50', 'P6', 'P6', 'P6', 'P6', 'P6', 'P7', 'P7', 'P7', 'P7', 'P7', 'P8', 'P8', 'P8', 'P8', 'P8', 'P9', 'P9', 'P9', 'P9', 'P9']\n"
     ]
    }
   ],
   "source": [
    "#faces = faces.to(device)\n",
    "#faces = torch.stack(aligned).to(device)\n",
    "\n",
    "outputs = resnet(faces)\n",
    "prob, preds = torch.max(outputs, 1)\n",
    "preds = preds.detach().cpu().numpy()\n",
    "print([dataset.idx_to_class[p] for p in preds])"
   ]
  },
  {
   "cell_type": "markdown",
   "metadata": {},
   "source": [
    "# Single Image Inference"
   ]
  },
  {
   "cell_type": "code",
   "execution_count": 36,
   "metadata": {},
   "outputs": [],
   "source": [
    "import albumentations as A\n",
    "from albumentations.pytorch import ToTensorV2\n",
    "import cv2\n",
    "\n",
    "transform = A.Compose([\n",
    "    ToTensorV2()\n",
    "])\n",
    "\n",
    "# Read an image with OpenCV and convert it to the RGB colorspace\n",
    "image = cv2.imread(\"TestSet/P1/s01_11.jpg\")\n",
    "image = cv2.cvtColor(image, cv2.COLOR_BGR2RGB)\n",
    "\n",
    "# Augment an image\n",
    "transformed = transform(image=image)\n",
    "transformed_image = transformed[\"image\"]"
   ]
  },
  {
   "cell_type": "code",
   "execution_count": 26,
   "metadata": {},
   "outputs": [],
   "source": [
    "aligned = []\n",
    "x_aligned, prob = mtcnn(image, return_prob=True)\n",
    "aligned.append(x_aligned)"
   ]
  },
  {
   "cell_type": "code",
   "execution_count": 28,
   "metadata": {},
   "outputs": [
    {
     "data": {
      "text/plain": [
       "<matplotlib.image.AxesImage at 0x7f4b52e23080>"
      ]
     },
     "execution_count": 28,
     "metadata": {},
     "output_type": "execute_result"
    },
    {
     "data": {
      "image/png": "[encoded data removed]",
      "text/plain": [
       "<Figure size 432x288 with 1 Axes>"
      ]
     },
     "metadata": {
      "needs_background": "light"
     },
     "output_type": "display_data"
    }
   ],
   "source": [
    "from imports import *\n",
    "plt.imshow(np.transpose(utils.make_grid(transformed_image.detach().cpu(), padding=2, normalize=False),(1,2,0)))"
   ]
  },
  {
   "cell_type": "code",
   "execution_count": 29,
   "metadata": {},
   "outputs": [
    {
     "name": "stdout",
     "output_type": "stream",
     "text": [
      "tensor([10.7323], device='cuda:0', grad_fn=<MaxBackward0>) [0]\n",
      "['P1']\n"
     ]
    }
   ],
   "source": [
    "resnet.eval()              # REQUIRED for Inference or else you will get the BatchNorm 1 channel error\n",
    "\n",
    "#faces = faces.to(device)\n",
    "faces = torch.stack(aligned).to(device)\n",
    "\n",
    "outputs = resnet(faces)\n",
    "dist, preds = torch.max(outputs, 1)\n",
    "preds = preds.detach().cpu().numpy() \n",
    "print(dist, preds)\n",
    "print([dataset.idx_to_class[p] for p in preds])"
   ]
  },
  {
   "cell_type": "markdown",
   "metadata": {},
   "source": [
    "## Wont work if you dont align!"
   ]
  },
  {
   "cell_type": "code",
   "execution_count": 37,
   "metadata": {},
   "outputs": [
    {
     "name": "stdout",
     "output_type": "stream",
     "text": [
      "tensor([43.6859], device='cuda:0', grad_fn=<MaxBackward0>) [33]\n",
      "['P4']\n"
     ]
    }
   ],
   "source": [
    "image = transformed_image.unsqueeze(0).float().cuda()\n",
    "outputs = resnet(image)\n",
    "dist, preds = torch.max(outputs, 1)\n",
    "preds = preds.detach().cpu().numpy() \n",
    "print(dist, preds)\n",
    "print([dataset.idx_to_class[p] for p in preds])"
   ]
  },
  {
   "cell_type": "code",
   "execution_count": null,
   "metadata": {},
   "outputs": [],
   "source": []
  }
 ],
 "metadata": {
  "kernelspec": {
   "display_name": "Python 3",
   "language": "python",
   "name": "python3"
  },
  "language_info": {
   "codemirror_mode": {
    "name": "ipython",
    "version": 3
   },
   "file_extension": ".py",
   "mimetype": "text/x-python",
   "name": "python",
   "nbconvert_exporter": "python",
   "pygments_lexer": "ipython3",
   "version": "3.7.3"
  }
 },
 "nbformat": 4,
 "nbformat_minor": 4
}
